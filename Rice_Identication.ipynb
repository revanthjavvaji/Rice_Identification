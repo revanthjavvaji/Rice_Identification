{
  "cells": [
    {
      "cell_type": "markdown",
      "metadata": {
        "id": "view-in-github",
        "colab_type": "text"
      },
      "source": [
        "<a href=\"https://colab.research.google.com/github/revanthjavvaji/Rice_Identification/blob/main/Rice_Identication.ipynb\" target=\"_parent\"><img src=\"https://colab.research.google.com/assets/colab-badge.svg\" alt=\"Open In Colab\"/></a>"
      ]
    },
    {
      "cell_type": "code",
      "execution_count": null,
      "metadata": {
        "id": "cTQgmgSa5S2K"
      },
      "outputs": [],
      "source": [
        "import pandas as pd\n",
        "import numpy as np\n",
        "import seaborn as sns\n",
        "import matplotlib.pyplot as plt\n",
        "df=pd.read_csv(\"/content/Rice_MSC_Dataset.csv\")"
      ]
    },
    {
      "cell_type": "code",
      "execution_count": null,
      "metadata": {
        "id": "PvlP-XKO_gMm",
        "colab": {
          "base_uri": "https://localhost:8080/"
        },
        "outputId": "a7cdecb9-5837-4dd5-8e10-74e497a0a715"
      },
      "outputs": [
        {
          "output_type": "stream",
          "name": "stdout",
          "text": [
            "<class 'pandas.core.frame.DataFrame'>\n",
            "RangeIndex: 75000 entries, 0 to 74999\n",
            "Columns: 107 entries, AREA to CLASS\n",
            "dtypes: float64(95), int64(11), object(1)\n",
            "memory usage: 61.2+ MB\n"
          ]
        }
      ],
      "source": [
        "df.info()"
      ]
    },
    {
      "cell_type": "code",
      "execution_count": null,
      "metadata": {
        "id": "oVLqR6VJD80i",
        "colab": {
          "base_uri": "https://localhost:8080/",
          "height": 299
        },
        "outputId": "9a5f9b97-b9f4-4c75-bebc-402cd46fea7d"
      },
      "outputs": [
        {
          "output_type": "execute_result",
          "data": {
            "text/plain": [
              "   AREA  PERIMETER  MAJOR_AXIS  MINOR_AXIS  ECCENTRICITY   EQDIASQ  SOLIDITY  \\\n",
              "0  7805    437.915    209.8215     48.0221        0.9735   99.6877    0.9775   \n",
              "1  7503    340.757    138.3361     69.8417        0.8632   97.7400    0.9660   \n",
              "2  5124    314.617    141.9803     46.5784        0.9447   80.7718    0.9721   \n",
              "3  7990    437.085    201.4386     51.2245        0.9671  100.8622    0.9659   \n",
              "4  7433    342.893    140.3350     68.3927        0.8732   97.2830    0.9831   \n",
              "\n",
              "   CONVEX_AREA  EXTENT  ASPECT_RATIO  ...  ALLdaub4L  ALLdaub4a  ALLdaub4b  \\\n",
              "0         7985  0.3547        4.3693  ...   113.9924    65.0610    59.5989   \n",
              "1         7767  0.6637        1.9807  ...   105.7055    64.3685    62.2084   \n",
              "2         5271  0.4760        3.0482  ...   109.7155    62.6423    58.7439   \n",
              "3         8272  0.6274        3.9325  ...   116.5405    64.9069    60.2562   \n",
              "4         7561  0.6006        2.0519  ...   107.7502    64.7071    61.3549   \n",
              "\n",
              "   ALLdaub4Y  ALLdaub4Cb  ALLdaub4Cr  ALLdaub4XX  ALLdaub4YY  ALLdaub4ZZ  \\\n",
              "0   104.8552     67.8779     63.0828      0.3673      0.3793      0.4733   \n",
              "1    96.8375     65.5371     63.5832      0.3014      0.3144      0.3641   \n",
              "2   100.2352     68.9753     59.8342      0.3233      0.3445      0.4448   \n",
              "3   107.2560     67.3298     63.2237      0.3880      0.4020      0.4904   \n",
              "4    98.8704     66.2048     63.5378      0.3184      0.3303      0.3928   \n",
              "\n",
              "     CLASS  \n",
              "0  Basmati  \n",
              "1  Arborio  \n",
              "2  Jasmine  \n",
              "3  Basmati  \n",
              "4  Arborio  \n",
              "\n",
              "[5 rows x 107 columns]"
            ],
            "text/html": [
              "\n",
              "  <div id=\"df-02708572-1a77-4cd2-8e81-9aab87943abd\">\n",
              "    <div class=\"colab-df-container\">\n",
              "      <div>\n",
              "<style scoped>\n",
              "    .dataframe tbody tr th:only-of-type {\n",
              "        vertical-align: middle;\n",
              "    }\n",
              "\n",
              "    .dataframe tbody tr th {\n",
              "        vertical-align: top;\n",
              "    }\n",
              "\n",
              "    .dataframe thead th {\n",
              "        text-align: right;\n",
              "    }\n",
              "</style>\n",
              "<table border=\"1\" class=\"dataframe\">\n",
              "  <thead>\n",
              "    <tr style=\"text-align: right;\">\n",
              "      <th></th>\n",
              "      <th>AREA</th>\n",
              "      <th>PERIMETER</th>\n",
              "      <th>MAJOR_AXIS</th>\n",
              "      <th>MINOR_AXIS</th>\n",
              "      <th>ECCENTRICITY</th>\n",
              "      <th>EQDIASQ</th>\n",
              "      <th>SOLIDITY</th>\n",
              "      <th>CONVEX_AREA</th>\n",
              "      <th>EXTENT</th>\n",
              "      <th>ASPECT_RATIO</th>\n",
              "      <th>...</th>\n",
              "      <th>ALLdaub4L</th>\n",
              "      <th>ALLdaub4a</th>\n",
              "      <th>ALLdaub4b</th>\n",
              "      <th>ALLdaub4Y</th>\n",
              "      <th>ALLdaub4Cb</th>\n",
              "      <th>ALLdaub4Cr</th>\n",
              "      <th>ALLdaub4XX</th>\n",
              "      <th>ALLdaub4YY</th>\n",
              "      <th>ALLdaub4ZZ</th>\n",
              "      <th>CLASS</th>\n",
              "    </tr>\n",
              "  </thead>\n",
              "  <tbody>\n",
              "    <tr>\n",
              "      <th>0</th>\n",
              "      <td>7805</td>\n",
              "      <td>437.915</td>\n",
              "      <td>209.8215</td>\n",
              "      <td>48.0221</td>\n",
              "      <td>0.9735</td>\n",
              "      <td>99.6877</td>\n",
              "      <td>0.9775</td>\n",
              "      <td>7985</td>\n",
              "      <td>0.3547</td>\n",
              "      <td>4.3693</td>\n",
              "      <td>...</td>\n",
              "      <td>113.9924</td>\n",
              "      <td>65.0610</td>\n",
              "      <td>59.5989</td>\n",
              "      <td>104.8552</td>\n",
              "      <td>67.8779</td>\n",
              "      <td>63.0828</td>\n",
              "      <td>0.3673</td>\n",
              "      <td>0.3793</td>\n",
              "      <td>0.4733</td>\n",
              "      <td>Basmati</td>\n",
              "    </tr>\n",
              "    <tr>\n",
              "      <th>1</th>\n",
              "      <td>7503</td>\n",
              "      <td>340.757</td>\n",
              "      <td>138.3361</td>\n",
              "      <td>69.8417</td>\n",
              "      <td>0.8632</td>\n",
              "      <td>97.7400</td>\n",
              "      <td>0.9660</td>\n",
              "      <td>7767</td>\n",
              "      <td>0.6637</td>\n",
              "      <td>1.9807</td>\n",
              "      <td>...</td>\n",
              "      <td>105.7055</td>\n",
              "      <td>64.3685</td>\n",
              "      <td>62.2084</td>\n",
              "      <td>96.8375</td>\n",
              "      <td>65.5371</td>\n",
              "      <td>63.5832</td>\n",
              "      <td>0.3014</td>\n",
              "      <td>0.3144</td>\n",
              "      <td>0.3641</td>\n",
              "      <td>Arborio</td>\n",
              "    </tr>\n",
              "    <tr>\n",
              "      <th>2</th>\n",
              "      <td>5124</td>\n",
              "      <td>314.617</td>\n",
              "      <td>141.9803</td>\n",
              "      <td>46.5784</td>\n",
              "      <td>0.9447</td>\n",
              "      <td>80.7718</td>\n",
              "      <td>0.9721</td>\n",
              "      <td>5271</td>\n",
              "      <td>0.4760</td>\n",
              "      <td>3.0482</td>\n",
              "      <td>...</td>\n",
              "      <td>109.7155</td>\n",
              "      <td>62.6423</td>\n",
              "      <td>58.7439</td>\n",
              "      <td>100.2352</td>\n",
              "      <td>68.9753</td>\n",
              "      <td>59.8342</td>\n",
              "      <td>0.3233</td>\n",
              "      <td>0.3445</td>\n",
              "      <td>0.4448</td>\n",
              "      <td>Jasmine</td>\n",
              "    </tr>\n",
              "    <tr>\n",
              "      <th>3</th>\n",
              "      <td>7990</td>\n",
              "      <td>437.085</td>\n",
              "      <td>201.4386</td>\n",
              "      <td>51.2245</td>\n",
              "      <td>0.9671</td>\n",
              "      <td>100.8622</td>\n",
              "      <td>0.9659</td>\n",
              "      <td>8272</td>\n",
              "      <td>0.6274</td>\n",
              "      <td>3.9325</td>\n",
              "      <td>...</td>\n",
              "      <td>116.5405</td>\n",
              "      <td>64.9069</td>\n",
              "      <td>60.2562</td>\n",
              "      <td>107.2560</td>\n",
              "      <td>67.3298</td>\n",
              "      <td>63.2237</td>\n",
              "      <td>0.3880</td>\n",
              "      <td>0.4020</td>\n",
              "      <td>0.4904</td>\n",
              "      <td>Basmati</td>\n",
              "    </tr>\n",
              "    <tr>\n",
              "      <th>4</th>\n",
              "      <td>7433</td>\n",
              "      <td>342.893</td>\n",
              "      <td>140.3350</td>\n",
              "      <td>68.3927</td>\n",
              "      <td>0.8732</td>\n",
              "      <td>97.2830</td>\n",
              "      <td>0.9831</td>\n",
              "      <td>7561</td>\n",
              "      <td>0.6006</td>\n",
              "      <td>2.0519</td>\n",
              "      <td>...</td>\n",
              "      <td>107.7502</td>\n",
              "      <td>64.7071</td>\n",
              "      <td>61.3549</td>\n",
              "      <td>98.8704</td>\n",
              "      <td>66.2048</td>\n",
              "      <td>63.5378</td>\n",
              "      <td>0.3184</td>\n",
              "      <td>0.3303</td>\n",
              "      <td>0.3928</td>\n",
              "      <td>Arborio</td>\n",
              "    </tr>\n",
              "  </tbody>\n",
              "</table>\n",
              "<p>5 rows × 107 columns</p>\n",
              "</div>\n",
              "      <button class=\"colab-df-convert\" onclick=\"convertToInteractive('df-02708572-1a77-4cd2-8e81-9aab87943abd')\"\n",
              "              title=\"Convert this dataframe to an interactive table.\"\n",
              "              style=\"display:none;\">\n",
              "        \n",
              "  <svg xmlns=\"http://www.w3.org/2000/svg\" height=\"24px\"viewBox=\"0 0 24 24\"\n",
              "       width=\"24px\">\n",
              "    <path d=\"M0 0h24v24H0V0z\" fill=\"none\"/>\n",
              "    <path d=\"M18.56 5.44l.94 2.06.94-2.06 2.06-.94-2.06-.94-.94-2.06-.94 2.06-2.06.94zm-11 1L8.5 8.5l.94-2.06 2.06-.94-2.06-.94L8.5 2.5l-.94 2.06-2.06.94zm10 10l.94 2.06.94-2.06 2.06-.94-2.06-.94-.94-2.06-.94 2.06-2.06.94z\"/><path d=\"M17.41 7.96l-1.37-1.37c-.4-.4-.92-.59-1.43-.59-.52 0-1.04.2-1.43.59L10.3 9.45l-7.72 7.72c-.78.78-.78 2.05 0 2.83L4 21.41c.39.39.9.59 1.41.59.51 0 1.02-.2 1.41-.59l7.78-7.78 2.81-2.81c.8-.78.8-2.07 0-2.86zM5.41 20L4 18.59l7.72-7.72 1.47 1.35L5.41 20z\"/>\n",
              "  </svg>\n",
              "      </button>\n",
              "      \n",
              "  <style>\n",
              "    .colab-df-container {\n",
              "      display:flex;\n",
              "      flex-wrap:wrap;\n",
              "      gap: 12px;\n",
              "    }\n",
              "\n",
              "    .colab-df-convert {\n",
              "      background-color: #E8F0FE;\n",
              "      border: none;\n",
              "      border-radius: 50%;\n",
              "      cursor: pointer;\n",
              "      display: none;\n",
              "      fill: #1967D2;\n",
              "      height: 32px;\n",
              "      padding: 0 0 0 0;\n",
              "      width: 32px;\n",
              "    }\n",
              "\n",
              "    .colab-df-convert:hover {\n",
              "      background-color: #E2EBFA;\n",
              "      box-shadow: 0px 1px 2px rgba(60, 64, 67, 0.3), 0px 1px 3px 1px rgba(60, 64, 67, 0.15);\n",
              "      fill: #174EA6;\n",
              "    }\n",
              "\n",
              "    [theme=dark] .colab-df-convert {\n",
              "      background-color: #3B4455;\n",
              "      fill: #D2E3FC;\n",
              "    }\n",
              "\n",
              "    [theme=dark] .colab-df-convert:hover {\n",
              "      background-color: #434B5C;\n",
              "      box-shadow: 0px 1px 3px 1px rgba(0, 0, 0, 0.15);\n",
              "      filter: drop-shadow(0px 1px 2px rgba(0, 0, 0, 0.3));\n",
              "      fill: #FFFFFF;\n",
              "    }\n",
              "  </style>\n",
              "\n",
              "      <script>\n",
              "        const buttonEl =\n",
              "          document.querySelector('#df-02708572-1a77-4cd2-8e81-9aab87943abd button.colab-df-convert');\n",
              "        buttonEl.style.display =\n",
              "          google.colab.kernel.accessAllowed ? 'block' : 'none';\n",
              "\n",
              "        async function convertToInteractive(key) {\n",
              "          const element = document.querySelector('#df-02708572-1a77-4cd2-8e81-9aab87943abd');\n",
              "          const dataTable =\n",
              "            await google.colab.kernel.invokeFunction('convertToInteractive',\n",
              "                                                     [key], {});\n",
              "          if (!dataTable) return;\n",
              "\n",
              "          const docLinkHtml = 'Like what you see? Visit the ' +\n",
              "            '<a target=\"_blank\" href=https://colab.research.google.com/notebooks/data_table.ipynb>data table notebook</a>'\n",
              "            + ' to learn more about interactive tables.';\n",
              "          element.innerHTML = '';\n",
              "          dataTable['output_type'] = 'display_data';\n",
              "          await google.colab.output.renderOutput(dataTable, element);\n",
              "          const docLink = document.createElement('div');\n",
              "          docLink.innerHTML = docLinkHtml;\n",
              "          element.appendChild(docLink);\n",
              "        }\n",
              "      </script>\n",
              "    </div>\n",
              "  </div>\n",
              "  "
            ]
          },
          "metadata": {},
          "execution_count": 6
        }
      ],
      "source": [
        "df.head(5)"
      ]
    },
    {
      "cell_type": "code",
      "execution_count": null,
      "metadata": {
        "id": "gpvZgKvUb9N3",
        "colab": {
          "base_uri": "https://localhost:8080/"
        },
        "outputId": "381efeb5-6b2b-4b3d-93eb-505b06bb1048"
      },
      "outputs": [
        {
          "output_type": "execute_result",
          "data": {
            "text/plain": [
              "{'Arborio': 4, 'Basmati': 1, 'Ipsala': 3, 'Jasmine': 2, 'Karacadag': 0}"
            ]
          },
          "metadata": {},
          "execution_count": 7
        }
      ],
      "source": [
        "dictForClasses = {k: v for k, v in zip(list(set(df.iloc[:, -1].tolist())),list(range(len(list(set(df.iloc[:, -1].tolist()))))))}\n",
        "dictForClasses"
      ]
    },
    {
      "cell_type": "code",
      "execution_count": null,
      "metadata": {
        "id": "T9fLT0S6bcVm"
      },
      "outputs": [],
      "source": [
        "for i in range(75000):\n",
        "    classes = dictForClasses[df.iloc[i, -1]]\n",
        "    df.loc[i, 'CLASS'] = classes"
      ]
    },
    {
      "cell_type": "code",
      "execution_count": null,
      "metadata": {
        "id": "PrDDPi2eckYx",
        "colab": {
          "base_uri": "https://localhost:8080/"
        },
        "outputId": "0da72794-beba-40b7-ead4-741ad94638c0"
      },
      "outputs": [
        {
          "output_type": "stream",
          "name": "stdout",
          "text": [
            "<class 'pandas.core.frame.DataFrame'>\n",
            "RangeIndex: 75000 entries, 0 to 74999\n",
            "Columns: 107 entries, AREA to CLASS\n",
            "dtypes: float64(95), int64(11), object(1)\n",
            "memory usage: 61.2+ MB\n"
          ]
        }
      ],
      "source": [
        "df.info()\n"
      ]
    },
    {
      "cell_type": "code",
      "execution_count": null,
      "metadata": {
        "id": "RcJJpSXpqD03",
        "colab": {
          "base_uri": "https://localhost:8080/",
          "height": 488
        },
        "outputId": "8299d23b-e1ce-4a72-ee33-46a8ee2fa37d"
      },
      "outputs": [
        {
          "output_type": "execute_result",
          "data": {
            "text/plain": [
              "        AREA  PERIMETER  MAJOR_AXIS  MINOR_AXIS  ECCENTRICITY   EQDIASQ  \\\n",
              "0       7805    437.915    209.8215     48.0221        0.9735   99.6877   \n",
              "1       7503    340.757    138.3361     69.8417        0.8632   97.7400   \n",
              "2       5124    314.617    141.9803     46.5784        0.9447   80.7718   \n",
              "3       7990    437.085    201.4386     51.2245        0.9671  100.8622   \n",
              "4       7433    342.893    140.3350     68.3927        0.8732   97.2830   \n",
              "...      ...        ...         ...         ...           ...       ...   \n",
              "74995   5551    285.911    114.1695     62.9079        0.8345   84.0699   \n",
              "74996   7696    322.703    121.3900     81.1375        0.7438   98.9892   \n",
              "74997   7579    339.295    136.3125     71.2866        0.8524   98.2338   \n",
              "74998  15174    489.502    200.9486     97.6282        0.8740  138.9969   \n",
              "74999  12931    452.635    185.5138     90.2651        0.8736  128.3131   \n",
              "\n",
              "       SOLIDITY  CONVEX_AREA  EXTENT  ASPECT_RATIO  ...  ALLdaub4L  ALLdaub4a  \\\n",
              "0        0.9775         7985  0.3547        4.3693  ...   113.9924    65.0610   \n",
              "1        0.9660         7767  0.6637        1.9807  ...   105.7055    64.3685   \n",
              "2        0.9721         5271  0.4760        3.0482  ...   109.7155    62.6423   \n",
              "3        0.9659         8272  0.6274        3.9325  ...   116.5405    64.9069   \n",
              "4        0.9831         7561  0.6006        2.0519  ...   107.7502    64.7071   \n",
              "...         ...          ...     ...           ...  ...        ...        ...   \n",
              "74995    0.9846         5638  0.6418        1.8149  ...   103.9529    64.9225   \n",
              "74996    0.9868         7799  0.7309        1.4961  ...   108.9778    65.4571   \n",
              "74997    0.9805         7730  0.6399        1.9122  ...   106.0881    64.1869   \n",
              "74998    0.9766        15537  0.7903        2.0583  ...   119.2037    63.3545   \n",
              "74999    0.9760        13249  0.7640        2.0552  ...   121.4198    63.5424   \n",
              "\n",
              "       ALLdaub4b  ALLdaub4Y  ALLdaub4Cb  ALLdaub4Cr  ALLdaub4XX  ALLdaub4YY  \\\n",
              "0        59.5989   104.8552     67.8779     63.0828      0.3673      0.3793   \n",
              "1        62.2084    96.8375     65.5371     63.5832      0.3014      0.3144   \n",
              "2        58.7439   100.2352     68.9753     59.8342      0.3233      0.3445   \n",
              "3        60.2562   107.2560     67.3298     63.2237      0.3880      0.4020   \n",
              "4        61.3549    98.8704     66.2048     63.5378      0.3184      0.3303   \n",
              "...          ...        ...         ...         ...         ...         ...   \n",
              "74995    62.4355    95.2780     65.5114     64.4457      0.2895      0.2997   \n",
              "74996    59.9502   100.2301     67.5089     63.6028      0.3335      0.3426   \n",
              "74997    61.3876    97.1585     66.2445     63.0596      0.3028      0.3164   \n",
              "74998    64.8200   109.3027     63.3122     63.5967      0.3970      0.4215   \n",
              "74999    65.2355   111.4580     63.0129     63.9117      0.4162      0.4414   \n",
              "\n",
              "       ALLdaub4ZZ  CLASS  \n",
              "0          0.4733      1  \n",
              "1          0.3641      4  \n",
              "2          0.4448      2  \n",
              "3          0.4904      1  \n",
              "4          0.3928      4  \n",
              "...           ...    ...  \n",
              "74995      0.3455      4  \n",
              "74996      0.4257      0  \n",
              "74997      0.3761      4  \n",
              "74998      0.4469      3  \n",
              "74999      0.4626      3  \n",
              "\n",
              "[75000 rows x 107 columns]"
            ],
            "text/html": [
              "\n",
              "  <div id=\"df-bd4e8fd9-928a-4d2a-977c-a808030b8ef3\">\n",
              "    <div class=\"colab-df-container\">\n",
              "      <div>\n",
              "<style scoped>\n",
              "    .dataframe tbody tr th:only-of-type {\n",
              "        vertical-align: middle;\n",
              "    }\n",
              "\n",
              "    .dataframe tbody tr th {\n",
              "        vertical-align: top;\n",
              "    }\n",
              "\n",
              "    .dataframe thead th {\n",
              "        text-align: right;\n",
              "    }\n",
              "</style>\n",
              "<table border=\"1\" class=\"dataframe\">\n",
              "  <thead>\n",
              "    <tr style=\"text-align: right;\">\n",
              "      <th></th>\n",
              "      <th>AREA</th>\n",
              "      <th>PERIMETER</th>\n",
              "      <th>MAJOR_AXIS</th>\n",
              "      <th>MINOR_AXIS</th>\n",
              "      <th>ECCENTRICITY</th>\n",
              "      <th>EQDIASQ</th>\n",
              "      <th>SOLIDITY</th>\n",
              "      <th>CONVEX_AREA</th>\n",
              "      <th>EXTENT</th>\n",
              "      <th>ASPECT_RATIO</th>\n",
              "      <th>...</th>\n",
              "      <th>ALLdaub4L</th>\n",
              "      <th>ALLdaub4a</th>\n",
              "      <th>ALLdaub4b</th>\n",
              "      <th>ALLdaub4Y</th>\n",
              "      <th>ALLdaub4Cb</th>\n",
              "      <th>ALLdaub4Cr</th>\n",
              "      <th>ALLdaub4XX</th>\n",
              "      <th>ALLdaub4YY</th>\n",
              "      <th>ALLdaub4ZZ</th>\n",
              "      <th>CLASS</th>\n",
              "    </tr>\n",
              "  </thead>\n",
              "  <tbody>\n",
              "    <tr>\n",
              "      <th>0</th>\n",
              "      <td>7805</td>\n",
              "      <td>437.915</td>\n",
              "      <td>209.8215</td>\n",
              "      <td>48.0221</td>\n",
              "      <td>0.9735</td>\n",
              "      <td>99.6877</td>\n",
              "      <td>0.9775</td>\n",
              "      <td>7985</td>\n",
              "      <td>0.3547</td>\n",
              "      <td>4.3693</td>\n",
              "      <td>...</td>\n",
              "      <td>113.9924</td>\n",
              "      <td>65.0610</td>\n",
              "      <td>59.5989</td>\n",
              "      <td>104.8552</td>\n",
              "      <td>67.8779</td>\n",
              "      <td>63.0828</td>\n",
              "      <td>0.3673</td>\n",
              "      <td>0.3793</td>\n",
              "      <td>0.4733</td>\n",
              "      <td>1</td>\n",
              "    </tr>\n",
              "    <tr>\n",
              "      <th>1</th>\n",
              "      <td>7503</td>\n",
              "      <td>340.757</td>\n",
              "      <td>138.3361</td>\n",
              "      <td>69.8417</td>\n",
              "      <td>0.8632</td>\n",
              "      <td>97.7400</td>\n",
              "      <td>0.9660</td>\n",
              "      <td>7767</td>\n",
              "      <td>0.6637</td>\n",
              "      <td>1.9807</td>\n",
              "      <td>...</td>\n",
              "      <td>105.7055</td>\n",
              "      <td>64.3685</td>\n",
              "      <td>62.2084</td>\n",
              "      <td>96.8375</td>\n",
              "      <td>65.5371</td>\n",
              "      <td>63.5832</td>\n",
              "      <td>0.3014</td>\n",
              "      <td>0.3144</td>\n",
              "      <td>0.3641</td>\n",
              "      <td>4</td>\n",
              "    </tr>\n",
              "    <tr>\n",
              "      <th>2</th>\n",
              "      <td>5124</td>\n",
              "      <td>314.617</td>\n",
              "      <td>141.9803</td>\n",
              "      <td>46.5784</td>\n",
              "      <td>0.9447</td>\n",
              "      <td>80.7718</td>\n",
              "      <td>0.9721</td>\n",
              "      <td>5271</td>\n",
              "      <td>0.4760</td>\n",
              "      <td>3.0482</td>\n",
              "      <td>...</td>\n",
              "      <td>109.7155</td>\n",
              "      <td>62.6423</td>\n",
              "      <td>58.7439</td>\n",
              "      <td>100.2352</td>\n",
              "      <td>68.9753</td>\n",
              "      <td>59.8342</td>\n",
              "      <td>0.3233</td>\n",
              "      <td>0.3445</td>\n",
              "      <td>0.4448</td>\n",
              "      <td>2</td>\n",
              "    </tr>\n",
              "    <tr>\n",
              "      <th>3</th>\n",
              "      <td>7990</td>\n",
              "      <td>437.085</td>\n",
              "      <td>201.4386</td>\n",
              "      <td>51.2245</td>\n",
              "      <td>0.9671</td>\n",
              "      <td>100.8622</td>\n",
              "      <td>0.9659</td>\n",
              "      <td>8272</td>\n",
              "      <td>0.6274</td>\n",
              "      <td>3.9325</td>\n",
              "      <td>...</td>\n",
              "      <td>116.5405</td>\n",
              "      <td>64.9069</td>\n",
              "      <td>60.2562</td>\n",
              "      <td>107.2560</td>\n",
              "      <td>67.3298</td>\n",
              "      <td>63.2237</td>\n",
              "      <td>0.3880</td>\n",
              "      <td>0.4020</td>\n",
              "      <td>0.4904</td>\n",
              "      <td>1</td>\n",
              "    </tr>\n",
              "    <tr>\n",
              "      <th>4</th>\n",
              "      <td>7433</td>\n",
              "      <td>342.893</td>\n",
              "      <td>140.3350</td>\n",
              "      <td>68.3927</td>\n",
              "      <td>0.8732</td>\n",
              "      <td>97.2830</td>\n",
              "      <td>0.9831</td>\n",
              "      <td>7561</td>\n",
              "      <td>0.6006</td>\n",
              "      <td>2.0519</td>\n",
              "      <td>...</td>\n",
              "      <td>107.7502</td>\n",
              "      <td>64.7071</td>\n",
              "      <td>61.3549</td>\n",
              "      <td>98.8704</td>\n",
              "      <td>66.2048</td>\n",
              "      <td>63.5378</td>\n",
              "      <td>0.3184</td>\n",
              "      <td>0.3303</td>\n",
              "      <td>0.3928</td>\n",
              "      <td>4</td>\n",
              "    </tr>\n",
              "    <tr>\n",
              "      <th>...</th>\n",
              "      <td>...</td>\n",
              "      <td>...</td>\n",
              "      <td>...</td>\n",
              "      <td>...</td>\n",
              "      <td>...</td>\n",
              "      <td>...</td>\n",
              "      <td>...</td>\n",
              "      <td>...</td>\n",
              "      <td>...</td>\n",
              "      <td>...</td>\n",
              "      <td>...</td>\n",
              "      <td>...</td>\n",
              "      <td>...</td>\n",
              "      <td>...</td>\n",
              "      <td>...</td>\n",
              "      <td>...</td>\n",
              "      <td>...</td>\n",
              "      <td>...</td>\n",
              "      <td>...</td>\n",
              "      <td>...</td>\n",
              "      <td>...</td>\n",
              "    </tr>\n",
              "    <tr>\n",
              "      <th>74995</th>\n",
              "      <td>5551</td>\n",
              "      <td>285.911</td>\n",
              "      <td>114.1695</td>\n",
              "      <td>62.9079</td>\n",
              "      <td>0.8345</td>\n",
              "      <td>84.0699</td>\n",
              "      <td>0.9846</td>\n",
              "      <td>5638</td>\n",
              "      <td>0.6418</td>\n",
              "      <td>1.8149</td>\n",
              "      <td>...</td>\n",
              "      <td>103.9529</td>\n",
              "      <td>64.9225</td>\n",
              "      <td>62.4355</td>\n",
              "      <td>95.2780</td>\n",
              "      <td>65.5114</td>\n",
              "      <td>64.4457</td>\n",
              "      <td>0.2895</td>\n",
              "      <td>0.2997</td>\n",
              "      <td>0.3455</td>\n",
              "      <td>4</td>\n",
              "    </tr>\n",
              "    <tr>\n",
              "      <th>74996</th>\n",
              "      <td>7696</td>\n",
              "      <td>322.703</td>\n",
              "      <td>121.3900</td>\n",
              "      <td>81.1375</td>\n",
              "      <td>0.7438</td>\n",
              "      <td>98.9892</td>\n",
              "      <td>0.9868</td>\n",
              "      <td>7799</td>\n",
              "      <td>0.7309</td>\n",
              "      <td>1.4961</td>\n",
              "      <td>...</td>\n",
              "      <td>108.9778</td>\n",
              "      <td>65.4571</td>\n",
              "      <td>59.9502</td>\n",
              "      <td>100.2301</td>\n",
              "      <td>67.5089</td>\n",
              "      <td>63.6028</td>\n",
              "      <td>0.3335</td>\n",
              "      <td>0.3426</td>\n",
              "      <td>0.4257</td>\n",
              "      <td>0</td>\n",
              "    </tr>\n",
              "    <tr>\n",
              "      <th>74997</th>\n",
              "      <td>7579</td>\n",
              "      <td>339.295</td>\n",
              "      <td>136.3125</td>\n",
              "      <td>71.2866</td>\n",
              "      <td>0.8524</td>\n",
              "      <td>98.2338</td>\n",
              "      <td>0.9805</td>\n",
              "      <td>7730</td>\n",
              "      <td>0.6399</td>\n",
              "      <td>1.9122</td>\n",
              "      <td>...</td>\n",
              "      <td>106.0881</td>\n",
              "      <td>64.1869</td>\n",
              "      <td>61.3876</td>\n",
              "      <td>97.1585</td>\n",
              "      <td>66.2445</td>\n",
              "      <td>63.0596</td>\n",
              "      <td>0.3028</td>\n",
              "      <td>0.3164</td>\n",
              "      <td>0.3761</td>\n",
              "      <td>4</td>\n",
              "    </tr>\n",
              "    <tr>\n",
              "      <th>74998</th>\n",
              "      <td>15174</td>\n",
              "      <td>489.502</td>\n",
              "      <td>200.9486</td>\n",
              "      <td>97.6282</td>\n",
              "      <td>0.8740</td>\n",
              "      <td>138.9969</td>\n",
              "      <td>0.9766</td>\n",
              "      <td>15537</td>\n",
              "      <td>0.7903</td>\n",
              "      <td>2.0583</td>\n",
              "      <td>...</td>\n",
              "      <td>119.2037</td>\n",
              "      <td>63.3545</td>\n",
              "      <td>64.8200</td>\n",
              "      <td>109.3027</td>\n",
              "      <td>63.3122</td>\n",
              "      <td>63.5967</td>\n",
              "      <td>0.3970</td>\n",
              "      <td>0.4215</td>\n",
              "      <td>0.4469</td>\n",
              "      <td>3</td>\n",
              "    </tr>\n",
              "    <tr>\n",
              "      <th>74999</th>\n",
              "      <td>12931</td>\n",
              "      <td>452.635</td>\n",
              "      <td>185.5138</td>\n",
              "      <td>90.2651</td>\n",
              "      <td>0.8736</td>\n",
              "      <td>128.3131</td>\n",
              "      <td>0.9760</td>\n",
              "      <td>13249</td>\n",
              "      <td>0.7640</td>\n",
              "      <td>2.0552</td>\n",
              "      <td>...</td>\n",
              "      <td>121.4198</td>\n",
              "      <td>63.5424</td>\n",
              "      <td>65.2355</td>\n",
              "      <td>111.4580</td>\n",
              "      <td>63.0129</td>\n",
              "      <td>63.9117</td>\n",
              "      <td>0.4162</td>\n",
              "      <td>0.4414</td>\n",
              "      <td>0.4626</td>\n",
              "      <td>3</td>\n",
              "    </tr>\n",
              "  </tbody>\n",
              "</table>\n",
              "<p>75000 rows × 107 columns</p>\n",
              "</div>\n",
              "      <button class=\"colab-df-convert\" onclick=\"convertToInteractive('df-bd4e8fd9-928a-4d2a-977c-a808030b8ef3')\"\n",
              "              title=\"Convert this dataframe to an interactive table.\"\n",
              "              style=\"display:none;\">\n",
              "        \n",
              "  <svg xmlns=\"http://www.w3.org/2000/svg\" height=\"24px\"viewBox=\"0 0 24 24\"\n",
              "       width=\"24px\">\n",
              "    <path d=\"M0 0h24v24H0V0z\" fill=\"none\"/>\n",
              "    <path d=\"M18.56 5.44l.94 2.06.94-2.06 2.06-.94-2.06-.94-.94-2.06-.94 2.06-2.06.94zm-11 1L8.5 8.5l.94-2.06 2.06-.94-2.06-.94L8.5 2.5l-.94 2.06-2.06.94zm10 10l.94 2.06.94-2.06 2.06-.94-2.06-.94-.94-2.06-.94 2.06-2.06.94z\"/><path d=\"M17.41 7.96l-1.37-1.37c-.4-.4-.92-.59-1.43-.59-.52 0-1.04.2-1.43.59L10.3 9.45l-7.72 7.72c-.78.78-.78 2.05 0 2.83L4 21.41c.39.39.9.59 1.41.59.51 0 1.02-.2 1.41-.59l7.78-7.78 2.81-2.81c.8-.78.8-2.07 0-2.86zM5.41 20L4 18.59l7.72-7.72 1.47 1.35L5.41 20z\"/>\n",
              "  </svg>\n",
              "      </button>\n",
              "      \n",
              "  <style>\n",
              "    .colab-df-container {\n",
              "      display:flex;\n",
              "      flex-wrap:wrap;\n",
              "      gap: 12px;\n",
              "    }\n",
              "\n",
              "    .colab-df-convert {\n",
              "      background-color: #E8F0FE;\n",
              "      border: none;\n",
              "      border-radius: 50%;\n",
              "      cursor: pointer;\n",
              "      display: none;\n",
              "      fill: #1967D2;\n",
              "      height: 32px;\n",
              "      padding: 0 0 0 0;\n",
              "      width: 32px;\n",
              "    }\n",
              "\n",
              "    .colab-df-convert:hover {\n",
              "      background-color: #E2EBFA;\n",
              "      box-shadow: 0px 1px 2px rgba(60, 64, 67, 0.3), 0px 1px 3px 1px rgba(60, 64, 67, 0.15);\n",
              "      fill: #174EA6;\n",
              "    }\n",
              "\n",
              "    [theme=dark] .colab-df-convert {\n",
              "      background-color: #3B4455;\n",
              "      fill: #D2E3FC;\n",
              "    }\n",
              "\n",
              "    [theme=dark] .colab-df-convert:hover {\n",
              "      background-color: #434B5C;\n",
              "      box-shadow: 0px 1px 3px 1px rgba(0, 0, 0, 0.15);\n",
              "      filter: drop-shadow(0px 1px 2px rgba(0, 0, 0, 0.3));\n",
              "      fill: #FFFFFF;\n",
              "    }\n",
              "  </style>\n",
              "\n",
              "      <script>\n",
              "        const buttonEl =\n",
              "          document.querySelector('#df-bd4e8fd9-928a-4d2a-977c-a808030b8ef3 button.colab-df-convert');\n",
              "        buttonEl.style.display =\n",
              "          google.colab.kernel.accessAllowed ? 'block' : 'none';\n",
              "\n",
              "        async function convertToInteractive(key) {\n",
              "          const element = document.querySelector('#df-bd4e8fd9-928a-4d2a-977c-a808030b8ef3');\n",
              "          const dataTable =\n",
              "            await google.colab.kernel.invokeFunction('convertToInteractive',\n",
              "                                                     [key], {});\n",
              "          if (!dataTable) return;\n",
              "\n",
              "          const docLinkHtml = 'Like what you see? Visit the ' +\n",
              "            '<a target=\"_blank\" href=https://colab.research.google.com/notebooks/data_table.ipynb>data table notebook</a>'\n",
              "            + ' to learn more about interactive tables.';\n",
              "          element.innerHTML = '';\n",
              "          dataTable['output_type'] = 'display_data';\n",
              "          await google.colab.output.renderOutput(dataTable, element);\n",
              "          const docLink = document.createElement('div');\n",
              "          docLink.innerHTML = docLinkHtml;\n",
              "          element.appendChild(docLink);\n",
              "        }\n",
              "      </script>\n",
              "    </div>\n",
              "  </div>\n",
              "  "
            ]
          },
          "metadata": {},
          "execution_count": 10
        }
      ],
      "source": [
        "df"
      ]
    },
    {
      "cell_type": "code",
      "execution_count": null,
      "metadata": {
        "id": "ivLCRyl1qxTH",
        "colab": {
          "base_uri": "https://localhost:8080/"
        },
        "outputId": "12372386-c1b9-4d94-8d23-4ba1686e7f30"
      },
      "outputs": [
        {
          "output_type": "execute_result",
          "data": {
            "text/plain": [
              "True"
            ]
          },
          "metadata": {},
          "execution_count": 11
        }
      ],
      "source": [
        "fg = np.array(df, dtype=float)\n",
        "np.any(np.isnan(fg))"
      ]
    },
    {
      "cell_type": "code",
      "execution_count": null,
      "metadata": {
        "id": "TpfDNO2orRCp"
      },
      "outputs": [],
      "source": [
        "df2=df.dropna()"
      ]
    },
    {
      "cell_type": "code",
      "execution_count": null,
      "metadata": {
        "id": "dkUVCfMSrT5H",
        "colab": {
          "base_uri": "https://localhost:8080/",
          "height": 488
        },
        "outputId": "e0d659eb-3191-4c0e-830d-171b00a1c052"
      },
      "outputs": [
        {
          "output_type": "execute_result",
          "data": {
            "text/plain": [
              "        AREA  PERIMETER  MAJOR_AXIS  MINOR_AXIS  ECCENTRICITY   EQDIASQ  \\\n",
              "0       7805    437.915    209.8215     48.0221        0.9735   99.6877   \n",
              "1       7503    340.757    138.3361     69.8417        0.8632   97.7400   \n",
              "2       5124    314.617    141.9803     46.5784        0.9447   80.7718   \n",
              "3       7990    437.085    201.4386     51.2245        0.9671  100.8622   \n",
              "4       7433    342.893    140.3350     68.3927        0.8732   97.2830   \n",
              "...      ...        ...         ...         ...           ...       ...   \n",
              "74995   5551    285.911    114.1695     62.9079        0.8345   84.0699   \n",
              "74996   7696    322.703    121.3900     81.1375        0.7438   98.9892   \n",
              "74997   7579    339.295    136.3125     71.2866        0.8524   98.2338   \n",
              "74998  15174    489.502    200.9486     97.6282        0.8740  138.9969   \n",
              "74999  12931    452.635    185.5138     90.2651        0.8736  128.3131   \n",
              "\n",
              "       SOLIDITY  CONVEX_AREA  EXTENT  ASPECT_RATIO  ...  ALLdaub4L  ALLdaub4a  \\\n",
              "0        0.9775         7985  0.3547        4.3693  ...   113.9924    65.0610   \n",
              "1        0.9660         7767  0.6637        1.9807  ...   105.7055    64.3685   \n",
              "2        0.9721         5271  0.4760        3.0482  ...   109.7155    62.6423   \n",
              "3        0.9659         8272  0.6274        3.9325  ...   116.5405    64.9069   \n",
              "4        0.9831         7561  0.6006        2.0519  ...   107.7502    64.7071   \n",
              "...         ...          ...     ...           ...  ...        ...        ...   \n",
              "74995    0.9846         5638  0.6418        1.8149  ...   103.9529    64.9225   \n",
              "74996    0.9868         7799  0.7309        1.4961  ...   108.9778    65.4571   \n",
              "74997    0.9805         7730  0.6399        1.9122  ...   106.0881    64.1869   \n",
              "74998    0.9766        15537  0.7903        2.0583  ...   119.2037    63.3545   \n",
              "74999    0.9760        13249  0.7640        2.0552  ...   121.4198    63.5424   \n",
              "\n",
              "       ALLdaub4b  ALLdaub4Y  ALLdaub4Cb  ALLdaub4Cr  ALLdaub4XX  ALLdaub4YY  \\\n",
              "0        59.5989   104.8552     67.8779     63.0828      0.3673      0.3793   \n",
              "1        62.2084    96.8375     65.5371     63.5832      0.3014      0.3144   \n",
              "2        58.7439   100.2352     68.9753     59.8342      0.3233      0.3445   \n",
              "3        60.2562   107.2560     67.3298     63.2237      0.3880      0.4020   \n",
              "4        61.3549    98.8704     66.2048     63.5378      0.3184      0.3303   \n",
              "...          ...        ...         ...         ...         ...         ...   \n",
              "74995    62.4355    95.2780     65.5114     64.4457      0.2895      0.2997   \n",
              "74996    59.9502   100.2301     67.5089     63.6028      0.3335      0.3426   \n",
              "74997    61.3876    97.1585     66.2445     63.0596      0.3028      0.3164   \n",
              "74998    64.8200   109.3027     63.3122     63.5967      0.3970      0.4215   \n",
              "74999    65.2355   111.4580     63.0129     63.9117      0.4162      0.4414   \n",
              "\n",
              "       ALLdaub4ZZ  CLASS  \n",
              "0          0.4733      1  \n",
              "1          0.3641      4  \n",
              "2          0.4448      2  \n",
              "3          0.4904      1  \n",
              "4          0.3928      4  \n",
              "...           ...    ...  \n",
              "74995      0.3455      4  \n",
              "74996      0.4257      0  \n",
              "74997      0.3761      4  \n",
              "74998      0.4469      3  \n",
              "74999      0.4626      3  \n",
              "\n",
              "[74992 rows x 107 columns]"
            ],
            "text/html": [
              "\n",
              "  <div id=\"df-ad2a0109-c404-4e86-b5f9-b9997034fa5e\">\n",
              "    <div class=\"colab-df-container\">\n",
              "      <div>\n",
              "<style scoped>\n",
              "    .dataframe tbody tr th:only-of-type {\n",
              "        vertical-align: middle;\n",
              "    }\n",
              "\n",
              "    .dataframe tbody tr th {\n",
              "        vertical-align: top;\n",
              "    }\n",
              "\n",
              "    .dataframe thead th {\n",
              "        text-align: right;\n",
              "    }\n",
              "</style>\n",
              "<table border=\"1\" class=\"dataframe\">\n",
              "  <thead>\n",
              "    <tr style=\"text-align: right;\">\n",
              "      <th></th>\n",
              "      <th>AREA</th>\n",
              "      <th>PERIMETER</th>\n",
              "      <th>MAJOR_AXIS</th>\n",
              "      <th>MINOR_AXIS</th>\n",
              "      <th>ECCENTRICITY</th>\n",
              "      <th>EQDIASQ</th>\n",
              "      <th>SOLIDITY</th>\n",
              "      <th>CONVEX_AREA</th>\n",
              "      <th>EXTENT</th>\n",
              "      <th>ASPECT_RATIO</th>\n",
              "      <th>...</th>\n",
              "      <th>ALLdaub4L</th>\n",
              "      <th>ALLdaub4a</th>\n",
              "      <th>ALLdaub4b</th>\n",
              "      <th>ALLdaub4Y</th>\n",
              "      <th>ALLdaub4Cb</th>\n",
              "      <th>ALLdaub4Cr</th>\n",
              "      <th>ALLdaub4XX</th>\n",
              "      <th>ALLdaub4YY</th>\n",
              "      <th>ALLdaub4ZZ</th>\n",
              "      <th>CLASS</th>\n",
              "    </tr>\n",
              "  </thead>\n",
              "  <tbody>\n",
              "    <tr>\n",
              "      <th>0</th>\n",
              "      <td>7805</td>\n",
              "      <td>437.915</td>\n",
              "      <td>209.8215</td>\n",
              "      <td>48.0221</td>\n",
              "      <td>0.9735</td>\n",
              "      <td>99.6877</td>\n",
              "      <td>0.9775</td>\n",
              "      <td>7985</td>\n",
              "      <td>0.3547</td>\n",
              "      <td>4.3693</td>\n",
              "      <td>...</td>\n",
              "      <td>113.9924</td>\n",
              "      <td>65.0610</td>\n",
              "      <td>59.5989</td>\n",
              "      <td>104.8552</td>\n",
              "      <td>67.8779</td>\n",
              "      <td>63.0828</td>\n",
              "      <td>0.3673</td>\n",
              "      <td>0.3793</td>\n",
              "      <td>0.4733</td>\n",
              "      <td>1</td>\n",
              "    </tr>\n",
              "    <tr>\n",
              "      <th>1</th>\n",
              "      <td>7503</td>\n",
              "      <td>340.757</td>\n",
              "      <td>138.3361</td>\n",
              "      <td>69.8417</td>\n",
              "      <td>0.8632</td>\n",
              "      <td>97.7400</td>\n",
              "      <td>0.9660</td>\n",
              "      <td>7767</td>\n",
              "      <td>0.6637</td>\n",
              "      <td>1.9807</td>\n",
              "      <td>...</td>\n",
              "      <td>105.7055</td>\n",
              "      <td>64.3685</td>\n",
              "      <td>62.2084</td>\n",
              "      <td>96.8375</td>\n",
              "      <td>65.5371</td>\n",
              "      <td>63.5832</td>\n",
              "      <td>0.3014</td>\n",
              "      <td>0.3144</td>\n",
              "      <td>0.3641</td>\n",
              "      <td>4</td>\n",
              "    </tr>\n",
              "    <tr>\n",
              "      <th>2</th>\n",
              "      <td>5124</td>\n",
              "      <td>314.617</td>\n",
              "      <td>141.9803</td>\n",
              "      <td>46.5784</td>\n",
              "      <td>0.9447</td>\n",
              "      <td>80.7718</td>\n",
              "      <td>0.9721</td>\n",
              "      <td>5271</td>\n",
              "      <td>0.4760</td>\n",
              "      <td>3.0482</td>\n",
              "      <td>...</td>\n",
              "      <td>109.7155</td>\n",
              "      <td>62.6423</td>\n",
              "      <td>58.7439</td>\n",
              "      <td>100.2352</td>\n",
              "      <td>68.9753</td>\n",
              "      <td>59.8342</td>\n",
              "      <td>0.3233</td>\n",
              "      <td>0.3445</td>\n",
              "      <td>0.4448</td>\n",
              "      <td>2</td>\n",
              "    </tr>\n",
              "    <tr>\n",
              "      <th>3</th>\n",
              "      <td>7990</td>\n",
              "      <td>437.085</td>\n",
              "      <td>201.4386</td>\n",
              "      <td>51.2245</td>\n",
              "      <td>0.9671</td>\n",
              "      <td>100.8622</td>\n",
              "      <td>0.9659</td>\n",
              "      <td>8272</td>\n",
              "      <td>0.6274</td>\n",
              "      <td>3.9325</td>\n",
              "      <td>...</td>\n",
              "      <td>116.5405</td>\n",
              "      <td>64.9069</td>\n",
              "      <td>60.2562</td>\n",
              "      <td>107.2560</td>\n",
              "      <td>67.3298</td>\n",
              "      <td>63.2237</td>\n",
              "      <td>0.3880</td>\n",
              "      <td>0.4020</td>\n",
              "      <td>0.4904</td>\n",
              "      <td>1</td>\n",
              "    </tr>\n",
              "    <tr>\n",
              "      <th>4</th>\n",
              "      <td>7433</td>\n",
              "      <td>342.893</td>\n",
              "      <td>140.3350</td>\n",
              "      <td>68.3927</td>\n",
              "      <td>0.8732</td>\n",
              "      <td>97.2830</td>\n",
              "      <td>0.9831</td>\n",
              "      <td>7561</td>\n",
              "      <td>0.6006</td>\n",
              "      <td>2.0519</td>\n",
              "      <td>...</td>\n",
              "      <td>107.7502</td>\n",
              "      <td>64.7071</td>\n",
              "      <td>61.3549</td>\n",
              "      <td>98.8704</td>\n",
              "      <td>66.2048</td>\n",
              "      <td>63.5378</td>\n",
              "      <td>0.3184</td>\n",
              "      <td>0.3303</td>\n",
              "      <td>0.3928</td>\n",
              "      <td>4</td>\n",
              "    </tr>\n",
              "    <tr>\n",
              "      <th>...</th>\n",
              "      <td>...</td>\n",
              "      <td>...</td>\n",
              "      <td>...</td>\n",
              "      <td>...</td>\n",
              "      <td>...</td>\n",
              "      <td>...</td>\n",
              "      <td>...</td>\n",
              "      <td>...</td>\n",
              "      <td>...</td>\n",
              "      <td>...</td>\n",
              "      <td>...</td>\n",
              "      <td>...</td>\n",
              "      <td>...</td>\n",
              "      <td>...</td>\n",
              "      <td>...</td>\n",
              "      <td>...</td>\n",
              "      <td>...</td>\n",
              "      <td>...</td>\n",
              "      <td>...</td>\n",
              "      <td>...</td>\n",
              "      <td>...</td>\n",
              "    </tr>\n",
              "    <tr>\n",
              "      <th>74995</th>\n",
              "      <td>5551</td>\n",
              "      <td>285.911</td>\n",
              "      <td>114.1695</td>\n",
              "      <td>62.9079</td>\n",
              "      <td>0.8345</td>\n",
              "      <td>84.0699</td>\n",
              "      <td>0.9846</td>\n",
              "      <td>5638</td>\n",
              "      <td>0.6418</td>\n",
              "      <td>1.8149</td>\n",
              "      <td>...</td>\n",
              "      <td>103.9529</td>\n",
              "      <td>64.9225</td>\n",
              "      <td>62.4355</td>\n",
              "      <td>95.2780</td>\n",
              "      <td>65.5114</td>\n",
              "      <td>64.4457</td>\n",
              "      <td>0.2895</td>\n",
              "      <td>0.2997</td>\n",
              "      <td>0.3455</td>\n",
              "      <td>4</td>\n",
              "    </tr>\n",
              "    <tr>\n",
              "      <th>74996</th>\n",
              "      <td>7696</td>\n",
              "      <td>322.703</td>\n",
              "      <td>121.3900</td>\n",
              "      <td>81.1375</td>\n",
              "      <td>0.7438</td>\n",
              "      <td>98.9892</td>\n",
              "      <td>0.9868</td>\n",
              "      <td>7799</td>\n",
              "      <td>0.7309</td>\n",
              "      <td>1.4961</td>\n",
              "      <td>...</td>\n",
              "      <td>108.9778</td>\n",
              "      <td>65.4571</td>\n",
              "      <td>59.9502</td>\n",
              "      <td>100.2301</td>\n",
              "      <td>67.5089</td>\n",
              "      <td>63.6028</td>\n",
              "      <td>0.3335</td>\n",
              "      <td>0.3426</td>\n",
              "      <td>0.4257</td>\n",
              "      <td>0</td>\n",
              "    </tr>\n",
              "    <tr>\n",
              "      <th>74997</th>\n",
              "      <td>7579</td>\n",
              "      <td>339.295</td>\n",
              "      <td>136.3125</td>\n",
              "      <td>71.2866</td>\n",
              "      <td>0.8524</td>\n",
              "      <td>98.2338</td>\n",
              "      <td>0.9805</td>\n",
              "      <td>7730</td>\n",
              "      <td>0.6399</td>\n",
              "      <td>1.9122</td>\n",
              "      <td>...</td>\n",
              "      <td>106.0881</td>\n",
              "      <td>64.1869</td>\n",
              "      <td>61.3876</td>\n",
              "      <td>97.1585</td>\n",
              "      <td>66.2445</td>\n",
              "      <td>63.0596</td>\n",
              "      <td>0.3028</td>\n",
              "      <td>0.3164</td>\n",
              "      <td>0.3761</td>\n",
              "      <td>4</td>\n",
              "    </tr>\n",
              "    <tr>\n",
              "      <th>74998</th>\n",
              "      <td>15174</td>\n",
              "      <td>489.502</td>\n",
              "      <td>200.9486</td>\n",
              "      <td>97.6282</td>\n",
              "      <td>0.8740</td>\n",
              "      <td>138.9969</td>\n",
              "      <td>0.9766</td>\n",
              "      <td>15537</td>\n",
              "      <td>0.7903</td>\n",
              "      <td>2.0583</td>\n",
              "      <td>...</td>\n",
              "      <td>119.2037</td>\n",
              "      <td>63.3545</td>\n",
              "      <td>64.8200</td>\n",
              "      <td>109.3027</td>\n",
              "      <td>63.3122</td>\n",
              "      <td>63.5967</td>\n",
              "      <td>0.3970</td>\n",
              "      <td>0.4215</td>\n",
              "      <td>0.4469</td>\n",
              "      <td>3</td>\n",
              "    </tr>\n",
              "    <tr>\n",
              "      <th>74999</th>\n",
              "      <td>12931</td>\n",
              "      <td>452.635</td>\n",
              "      <td>185.5138</td>\n",
              "      <td>90.2651</td>\n",
              "      <td>0.8736</td>\n",
              "      <td>128.3131</td>\n",
              "      <td>0.9760</td>\n",
              "      <td>13249</td>\n",
              "      <td>0.7640</td>\n",
              "      <td>2.0552</td>\n",
              "      <td>...</td>\n",
              "      <td>121.4198</td>\n",
              "      <td>63.5424</td>\n",
              "      <td>65.2355</td>\n",
              "      <td>111.4580</td>\n",
              "      <td>63.0129</td>\n",
              "      <td>63.9117</td>\n",
              "      <td>0.4162</td>\n",
              "      <td>0.4414</td>\n",
              "      <td>0.4626</td>\n",
              "      <td>3</td>\n",
              "    </tr>\n",
              "  </tbody>\n",
              "</table>\n",
              "<p>74992 rows × 107 columns</p>\n",
              "</div>\n",
              "      <button class=\"colab-df-convert\" onclick=\"convertToInteractive('df-ad2a0109-c404-4e86-b5f9-b9997034fa5e')\"\n",
              "              title=\"Convert this dataframe to an interactive table.\"\n",
              "              style=\"display:none;\">\n",
              "        \n",
              "  <svg xmlns=\"http://www.w3.org/2000/svg\" height=\"24px\"viewBox=\"0 0 24 24\"\n",
              "       width=\"24px\">\n",
              "    <path d=\"M0 0h24v24H0V0z\" fill=\"none\"/>\n",
              "    <path d=\"M18.56 5.44l.94 2.06.94-2.06 2.06-.94-2.06-.94-.94-2.06-.94 2.06-2.06.94zm-11 1L8.5 8.5l.94-2.06 2.06-.94-2.06-.94L8.5 2.5l-.94 2.06-2.06.94zm10 10l.94 2.06.94-2.06 2.06-.94-2.06-.94-.94-2.06-.94 2.06-2.06.94z\"/><path d=\"M17.41 7.96l-1.37-1.37c-.4-.4-.92-.59-1.43-.59-.52 0-1.04.2-1.43.59L10.3 9.45l-7.72 7.72c-.78.78-.78 2.05 0 2.83L4 21.41c.39.39.9.59 1.41.59.51 0 1.02-.2 1.41-.59l7.78-7.78 2.81-2.81c.8-.78.8-2.07 0-2.86zM5.41 20L4 18.59l7.72-7.72 1.47 1.35L5.41 20z\"/>\n",
              "  </svg>\n",
              "      </button>\n",
              "      \n",
              "  <style>\n",
              "    .colab-df-container {\n",
              "      display:flex;\n",
              "      flex-wrap:wrap;\n",
              "      gap: 12px;\n",
              "    }\n",
              "\n",
              "    .colab-df-convert {\n",
              "      background-color: #E8F0FE;\n",
              "      border: none;\n",
              "      border-radius: 50%;\n",
              "      cursor: pointer;\n",
              "      display: none;\n",
              "      fill: #1967D2;\n",
              "      height: 32px;\n",
              "      padding: 0 0 0 0;\n",
              "      width: 32px;\n",
              "    }\n",
              "\n",
              "    .colab-df-convert:hover {\n",
              "      background-color: #E2EBFA;\n",
              "      box-shadow: 0px 1px 2px rgba(60, 64, 67, 0.3), 0px 1px 3px 1px rgba(60, 64, 67, 0.15);\n",
              "      fill: #174EA6;\n",
              "    }\n",
              "\n",
              "    [theme=dark] .colab-df-convert {\n",
              "      background-color: #3B4455;\n",
              "      fill: #D2E3FC;\n",
              "    }\n",
              "\n",
              "    [theme=dark] .colab-df-convert:hover {\n",
              "      background-color: #434B5C;\n",
              "      box-shadow: 0px 1px 3px 1px rgba(0, 0, 0, 0.15);\n",
              "      filter: drop-shadow(0px 1px 2px rgba(0, 0, 0, 0.3));\n",
              "      fill: #FFFFFF;\n",
              "    }\n",
              "  </style>\n",
              "\n",
              "      <script>\n",
              "        const buttonEl =\n",
              "          document.querySelector('#df-ad2a0109-c404-4e86-b5f9-b9997034fa5e button.colab-df-convert');\n",
              "        buttonEl.style.display =\n",
              "          google.colab.kernel.accessAllowed ? 'block' : 'none';\n",
              "\n",
              "        async function convertToInteractive(key) {\n",
              "          const element = document.querySelector('#df-ad2a0109-c404-4e86-b5f9-b9997034fa5e');\n",
              "          const dataTable =\n",
              "            await google.colab.kernel.invokeFunction('convertToInteractive',\n",
              "                                                     [key], {});\n",
              "          if (!dataTable) return;\n",
              "\n",
              "          const docLinkHtml = 'Like what you see? Visit the ' +\n",
              "            '<a target=\"_blank\" href=https://colab.research.google.com/notebooks/data_table.ipynb>data table notebook</a>'\n",
              "            + ' to learn more about interactive tables.';\n",
              "          element.innerHTML = '';\n",
              "          dataTable['output_type'] = 'display_data';\n",
              "          await google.colab.output.renderOutput(dataTable, element);\n",
              "          const docLink = document.createElement('div');\n",
              "          docLink.innerHTML = docLinkHtml;\n",
              "          element.appendChild(docLink);\n",
              "        }\n",
              "      </script>\n",
              "    </div>\n",
              "  </div>\n",
              "  "
            ]
          },
          "metadata": {},
          "execution_count": 13
        }
      ],
      "source": [
        "df2"
      ]
    },
    {
      "cell_type": "code",
      "execution_count": null,
      "metadata": {
        "id": "xd5X6E9srjCh"
      },
      "outputs": [],
      "source": [
        "X = np.array(df2.iloc[:, 0:106])\n",
        "y = np.asarray(df2.iloc[:, -1]).astype('int64')"
      ]
    },
    {
      "cell_type": "code",
      "execution_count": null,
      "metadata": {
        "id": "DWNiv6hRr0Zw",
        "colab": {
          "base_uri": "https://localhost:8080/"
        },
        "outputId": "505e1946-3ddb-4577-cf0f-15b08672344c"
      },
      "outputs": [
        {
          "output_type": "execute_result",
          "data": {
            "text/plain": [
              "(74992, 106)"
            ]
          },
          "metadata": {},
          "execution_count": 15
        }
      ],
      "source": [
        "X.shape"
      ]
    },
    {
      "cell_type": "code",
      "execution_count": null,
      "metadata": {
        "id": "G4MKVAuUr3BB",
        "colab": {
          "base_uri": "https://localhost:8080/"
        },
        "outputId": "42d43015-f924-49cc-8877-5fab7193ce87"
      },
      "outputs": [
        {
          "output_type": "execute_result",
          "data": {
            "text/plain": [
              "(74992,)"
            ]
          },
          "metadata": {},
          "execution_count": 16
        }
      ],
      "source": [
        "y.shape"
      ]
    },
    {
      "cell_type": "code",
      "execution_count": null,
      "metadata": {
        "id": "AuoaYiUxxPER"
      },
      "outputs": [],
      "source": [
        "#---------------------------Decision Trees Classifier-------------------#"
      ]
    },
    {
      "cell_type": "code",
      "execution_count": null,
      "metadata": {
        "id": "7urqshvRxPG2"
      },
      "outputs": [],
      "source": [
        "from sklearn.metrics import confusion_matrix\n",
        "from sklearn.model_selection import train_test_split\n",
        "from sklearn.tree import DecisionTreeClassifier\n",
        "from sklearn.metrics import accuracy_score\n",
        "from sklearn.metrics import classification_report"
      ]
    },
    {
      "cell_type": "code",
      "execution_count": null,
      "metadata": {
        "id": "FFNZfb6g2xY4"
      },
      "outputs": [],
      "source": [
        "from sklearn.model_selection import train_test_split\n",
        "X_train, X_test, y_train, y_test = train_test_split(X, y, test_size=0.25, random_state=40)"
      ]
    },
    {
      "cell_type": "code",
      "execution_count": null,
      "metadata": {
        "id": "xNhGOcUUxPJe",
        "colab": {
          "base_uri": "https://localhost:8080/"
        },
        "outputId": "ac139152-3f64-401b-e01a-1f7b34302950"
      },
      "outputs": [
        {
          "output_type": "execute_result",
          "data": {
            "text/plain": [
              "DecisionTreeClassifier(max_depth=3, min_samples_leaf=5, random_state=100)"
            ]
          },
          "metadata": {},
          "execution_count": 20
        }
      ],
      "source": [
        "# Creating the classifier object\n",
        "clf_gini = DecisionTreeClassifier(criterion = \"gini\",\n",
        "random_state = 100,max_depth=3, min_samples_leaf=5)\n",
        "  \n",
        "# Performing training\n",
        "clf_gini.fit(X_train, y_train)\n",
        "clf_gini"
      ]
    },
    {
      "cell_type": "code",
      "execution_count": null,
      "metadata": {
        "id": "Acu1ySGVxPOj",
        "colab": {
          "base_uri": "https://localhost:8080/"
        },
        "outputId": "edd4a80e-5d4b-4979-a654-7a838ee59b45"
      },
      "outputs": [
        {
          "output_type": "execute_result",
          "data": {
            "text/plain": [
              "DecisionTreeClassifier(criterion='entropy', max_depth=3, min_samples_leaf=5,\n",
              "                       random_state=100)"
            ]
          },
          "metadata": {},
          "execution_count": 21
        }
      ],
      "source": [
        " # Decision tree with entropy\n",
        "clf_entropy = DecisionTreeClassifier(\n",
        "criterion = \"entropy\", random_state = 100,\n",
        "max_depth = 3, min_samples_leaf = 5)\n",
        " # Performing training\n",
        "clf_entropy.fit(X_train, y_train)\n",
        "clf_entropy"
      ]
    },
    {
      "cell_type": "code",
      "execution_count": null,
      "metadata": {
        "id": "ghfUp85JxPRG",
        "colab": {
          "base_uri": "https://localhost:8080/"
        },
        "outputId": "2d25a105-a446-4ee2-e8f5-b36cae2f6206"
      },
      "outputs": [
        {
          "output_type": "stream",
          "name": "stdout",
          "text": [
            "Predicted values:\n",
            "[4 1 0 ... 0 1 3]\n"
          ]
        },
        {
          "output_type": "execute_result",
          "data": {
            "text/plain": [
              "array([4, 1, 0, ..., 0, 1, 3])"
            ]
          },
          "metadata": {},
          "execution_count": 22
        }
      ],
      "source": [
        " # Predicton on test with giniIndex\n",
        "y_pred = clf_gini.predict(X_test)\n",
        "print(\"Predicted values:\")\n",
        "print(y_pred)\n",
        "y_pred"
      ]
    },
    {
      "cell_type": "code",
      "execution_count": null,
      "metadata": {
        "id": "Ki2K7hFSxPTo",
        "colab": {
          "base_uri": "https://localhost:8080/"
        },
        "outputId": "ca5f96b9-5ea9-4b67-8e06-992353158865"
      },
      "outputs": [
        {
          "output_type": "stream",
          "name": "stdout",
          "text": [
            "Accuracy :  97.05568593983358\n"
          ]
        }
      ],
      "source": [
        "print(\"Accuracy : \",accuracy_score(y_test,y_pred)*100)\n",
        "      \n",
        "    "
      ]
    },
    {
      "cell_type": "code",
      "source": [
        "#----------------------Light gbm-----------------------#"
      ],
      "metadata": {
        "id": "AbZNrMhjr69X"
      },
      "execution_count": null,
      "outputs": []
    },
    {
      "cell_type": "code",
      "execution_count": null,
      "metadata": {
        "id": "J5wPyHu_nqnc",
        "colab": {
          "base_uri": "https://localhost:8080/"
        },
        "outputId": "c8430c37-e1ff-46b0-f31b-cfeb4d2897e2"
      },
      "outputs": [
        {
          "output_type": "stream",
          "name": "stdout",
          "text": [
            "Looking in indexes: https://pypi.org/simple, https://us-python.pkg.dev/colab-wheels/public/simple/\n",
            "Requirement already satisfied: flaml in /usr/local/lib/python3.7/dist-packages (1.0.2)\n",
            "Requirement already satisfied: scipy>=1.4.1 in /usr/local/lib/python3.7/dist-packages (from flaml) (1.4.1)\n",
            "Requirement already satisfied: lightgbm>=2.3.1 in /usr/local/lib/python3.7/dist-packages (from flaml) (3.3.2)\n",
            "Requirement already satisfied: pandas>=1.1.4 in /usr/local/lib/python3.7/dist-packages (from flaml) (1.3.5)\n",
            "Requirement already satisfied: scikit-learn>=0.24 in /usr/local/lib/python3.7/dist-packages (from flaml) (1.0.2)\n",
            "Requirement already satisfied: NumPy>=1.16.2 in /usr/local/lib/python3.7/dist-packages (from flaml) (1.21.6)\n",
            "Requirement already satisfied: xgboost<=1.3.3,>=0.90 in /usr/local/lib/python3.7/dist-packages (from flaml) (0.90)\n",
            "Requirement already satisfied: wheel in /usr/local/lib/python3.7/dist-packages (from lightgbm>=2.3.1->flaml) (0.37.1)\n",
            "Requirement already satisfied: pytz>=2017.3 in /usr/local/lib/python3.7/dist-packages (from pandas>=1.1.4->flaml) (2022.1)\n",
            "Requirement already satisfied: python-dateutil>=2.7.3 in /usr/local/lib/python3.7/dist-packages (from pandas>=1.1.4->flaml) (2.8.2)\n",
            "Requirement already satisfied: six>=1.5 in /usr/local/lib/python3.7/dist-packages (from python-dateutil>=2.7.3->pandas>=1.1.4->flaml) (1.15.0)\n",
            "Requirement already satisfied: joblib>=0.11 in /usr/local/lib/python3.7/dist-packages (from scikit-learn>=0.24->flaml) (1.1.0)\n",
            "Requirement already satisfied: threadpoolctl>=2.0.0 in /usr/local/lib/python3.7/dist-packages (from scikit-learn>=0.24->flaml) (3.1.0)\n"
          ]
        },
        {
          "output_type": "stream",
          "name": "stderr",
          "text": [
            "[flaml.automl: 05-30 14:49:37] {2365} INFO - task = classification\n",
            "[flaml.automl: 05-30 14:49:37] {2367} INFO - Data split method: stratified\n",
            "[flaml.automl: 05-30 14:49:37] {2371} INFO - Evaluation method: holdout\n",
            "[flaml.automl: 05-30 14:49:37] {2448} INFO - Minimizing error metric: 1-accuracy\n",
            "[flaml.automl: 05-30 14:49:37] {2561} INFO - List of ML learners in AutoML Run: ['lgbm', 'rf', 'xgboost', 'extra_tree', 'xgb_limitdepth', 'lrl1']\n",
            "[flaml.automl: 05-30 14:49:37] {2853} INFO - iteration 0, current learner lgbm\n",
            "[flaml.automl: 05-30 14:49:37] {2984} INFO - Estimated sufficient time budget=18300s. Estimated necessary time budget=422s.\n",
            "[flaml.automl: 05-30 14:49:37] {3036} INFO -  at 0.5s,\testimator lgbm's best error=0.0146,\tbest estimator lgbm's best error=0.0146\n",
            "[flaml.automl: 05-30 14:49:37] {2853} INFO - iteration 1, current learner lgbm\n",
            "[flaml.automl: 05-30 14:49:37] {3036} INFO -  at 0.9s,\testimator lgbm's best error=0.0146,\tbest estimator lgbm's best error=0.0146\n",
            "[flaml.automl: 05-30 14:49:37] {2853} INFO - iteration 2, current learner lgbm\n",
            "[flaml.automl: 05-30 14:49:38] {3036} INFO -  at 1.2s,\testimator lgbm's best error=0.0103,\tbest estimator lgbm's best error=0.0103\n",
            "[flaml.automl: 05-30 14:49:38] {2853} INFO - iteration 3, current learner xgboost\n",
            "[flaml.automl: 05-30 14:49:38] {3036} INFO -  at 1.9s,\testimator xgboost's best error=0.0155,\tbest estimator lgbm's best error=0.0103\n",
            "[flaml.automl: 05-30 14:49:38] {2853} INFO - iteration 4, current learner lgbm\n",
            "[flaml.automl: 05-30 14:49:39] {3036} INFO -  at 2.5s,\testimator lgbm's best error=0.0027,\tbest estimator lgbm's best error=0.0027\n",
            "[flaml.automl: 05-30 14:49:39] {2853} INFO - iteration 5, current learner lgbm\n",
            "[flaml.automl: 05-30 14:49:39] {3036} INFO -  at 2.7s,\testimator lgbm's best error=0.0027,\tbest estimator lgbm's best error=0.0027\n",
            "[flaml.automl: 05-30 14:49:39] {2853} INFO - iteration 6, current learner lgbm\n",
            "[flaml.automl: 05-30 14:49:40] {3036} INFO -  at 3.3s,\testimator lgbm's best error=0.0027,\tbest estimator lgbm's best error=0.0027\n",
            "[flaml.automl: 05-30 14:49:40] {2853} INFO - iteration 7, current learner extra_tree\n",
            "[flaml.automl: 05-30 14:49:40] {3036} INFO -  at 3.6s,\testimator extra_tree's best error=0.0783,\tbest estimator lgbm's best error=0.0027\n",
            "[flaml.automl: 05-30 14:49:40] {2853} INFO - iteration 8, current learner lgbm\n",
            "[flaml.automl: 05-30 14:49:41] {3036} INFO -  at 4.0s,\testimator lgbm's best error=0.0027,\tbest estimator lgbm's best error=0.0027\n",
            "[flaml.automl: 05-30 14:49:41] {2853} INFO - iteration 9, current learner lgbm\n",
            "[flaml.automl: 05-30 14:49:41] {3036} INFO -  at 4.4s,\testimator lgbm's best error=0.0027,\tbest estimator lgbm's best error=0.0027\n",
            "[flaml.automl: 05-30 14:49:41] {2853} INFO - iteration 10, current learner xgboost\n",
            "[flaml.automl: 05-30 14:49:42] {3036} INFO -  at 5.1s,\testimator xgboost's best error=0.0155,\tbest estimator lgbm's best error=0.0027\n",
            "[flaml.automl: 05-30 14:49:42] {2853} INFO - iteration 11, current learner xgboost\n",
            "[flaml.automl: 05-30 14:49:42] {3036} INFO -  at 5.8s,\testimator xgboost's best error=0.0130,\tbest estimator lgbm's best error=0.0027\n",
            "[flaml.automl: 05-30 14:49:42] {2853} INFO - iteration 12, current learner extra_tree\n",
            "[flaml.automl: 05-30 14:49:43] {3036} INFO -  at 6.1s,\testimator extra_tree's best error=0.0240,\tbest estimator lgbm's best error=0.0027\n",
            "[flaml.automl: 05-30 14:49:43] {2853} INFO - iteration 13, current learner extra_tree\n",
            "[flaml.automl: 05-30 14:49:43] {3036} INFO -  at 6.5s,\testimator extra_tree's best error=0.0240,\tbest estimator lgbm's best error=0.0027\n",
            "[flaml.automl: 05-30 14:49:43] {2853} INFO - iteration 14, current learner extra_tree\n",
            "[flaml.automl: 05-30 14:49:43] {3036} INFO -  at 6.8s,\testimator extra_tree's best error=0.0240,\tbest estimator lgbm's best error=0.0027\n",
            "[flaml.automl: 05-30 14:49:43] {2853} INFO - iteration 15, current learner rf\n",
            "[flaml.automl: 05-30 14:49:44] {3036} INFO -  at 7.2s,\testimator rf's best error=0.0437,\tbest estimator lgbm's best error=0.0027\n",
            "[flaml.automl: 05-30 14:49:44] {2853} INFO - iteration 16, current learner rf\n",
            "[flaml.automl: 05-30 14:49:44] {3036} INFO -  at 7.7s,\testimator rf's best error=0.0155,\tbest estimator lgbm's best error=0.0027\n",
            "[flaml.automl: 05-30 14:49:44] {2853} INFO - iteration 17, current learner extra_tree\n",
            "[flaml.automl: 05-30 14:49:45] {3036} INFO -  at 8.0s,\testimator extra_tree's best error=0.0108,\tbest estimator lgbm's best error=0.0027\n",
            "[flaml.automl: 05-30 14:49:45] {2853} INFO - iteration 18, current learner lgbm\n",
            "[flaml.automl: 05-30 14:49:45] {3036} INFO -  at 8.3s,\testimator lgbm's best error=0.0027,\tbest estimator lgbm's best error=0.0027\n",
            "[flaml.automl: 05-30 14:49:45] {2853} INFO - iteration 19, current learner rf\n",
            "[flaml.automl: 05-30 14:49:45] {3036} INFO -  at 8.6s,\testimator rf's best error=0.0155,\tbest estimator lgbm's best error=0.0027\n",
            "[flaml.automl: 05-30 14:49:45] {2853} INFO - iteration 20, current learner rf\n",
            "[flaml.automl: 05-30 14:49:46] {3036} INFO -  at 9.1s,\testimator rf's best error=0.0064,\tbest estimator lgbm's best error=0.0027\n",
            "[flaml.automl: 05-30 14:49:46] {2853} INFO - iteration 21, current learner rf\n",
            "[flaml.automl: 05-30 14:49:46] {3036} INFO -  at 9.4s,\testimator rf's best error=0.0064,\tbest estimator lgbm's best error=0.0027\n",
            "[flaml.automl: 05-30 14:49:46] {2853} INFO - iteration 22, current learner lgbm\n",
            "[flaml.automl: 05-30 14:49:46] {3036} INFO -  at 9.6s,\testimator lgbm's best error=0.0027,\tbest estimator lgbm's best error=0.0027\n",
            "[flaml.automl: 05-30 14:49:46] {2853} INFO - iteration 23, current learner extra_tree\n",
            "[flaml.automl: 05-30 14:49:46] {3036} INFO -  at 9.7s,\testimator extra_tree's best error=0.0108,\tbest estimator lgbm's best error=0.0027\n",
            "[flaml.automl: 05-30 14:49:46] {2853} INFO - iteration 24, current learner xgb_limitdepth\n",
            "[flaml.automl: 05-30 14:49:47] {3036} INFO -  at 10.3s,\testimator xgb_limitdepth's best error=0.0089,\tbest estimator lgbm's best error=0.0027\n",
            "[flaml.automl: 05-30 14:49:49] {3292} INFO - retrain lgbm for 2.3s\n",
            "[flaml.automl: 05-30 14:49:49] {3297} INFO - retrained model: LGBMClassifier(colsample_bytree=0.9285002286474459,\n",
            "               learning_rate=0.7260594590615893, max_bin=511,\n",
            "               min_child_samples=9, n_estimators=12, num_leaves=4,\n",
            "               reg_alpha=0.0036840681931986645, reg_lambda=0.7532480505730402,\n",
            "               verbose=-1)\n",
            "[flaml.automl: 05-30 14:49:49] {2592} INFO - fit succeeded\n",
            "[flaml.automl: 05-30 14:49:49] {2594} INFO - Time taken to find the best model: 2.4620754718780518\n"
          ]
        }
      ],
      "source": [
        "!pip install flaml\n",
        "from sklearn.model_selection import train_test_split\n",
        "from flaml import AutoML\n",
        "X_train, X_test, y_train, y_test = train_test_split(X, y, random_state=2022)\n",
        "\n",
        "model = AutoML()\n",
        "model.fit(X_train, y_train, metric='accuracy', task='classification', time_budget=10)"
      ]
    },
    {
      "cell_type": "code",
      "execution_count": null,
      "metadata": {
        "id": "0dhg-5CgnRib",
        "colab": {
          "base_uri": "https://localhost:8080/"
        },
        "outputId": "05f140c8-9e1a-4c8d-b462-cc68ed424cab"
      },
      "outputs": [
        {
          "output_type": "stream",
          "name": "stdout",
          "text": [
            "Best ML Model:  lgbm\n",
            "Best hyperparmeter config:  {'n_estimators': 12, 'num_leaves': 4, 'min_child_samples': 9, 'learning_rate': 0.7260594590615893, 'log_max_bin': 9, 'colsample_bytree': 0.9285002286474459, 'reg_alpha': 0.0036840681931986645, 'reg_lambda': 0.7532480505730402, 'FLAML_sample_size': 10000}\n",
            "Best accuracy on validation data: 0.997335\n",
            "Training duration of best run: 2.325456 s\n"
          ]
        }
      ],
      "source": [
        "print('Best ML Model: ', model.best_estimator)\n",
        "print('Best hyperparmeter config: ', model.best_config)\n",
        "print('Best accuracy on validation data: %f' %(1 - model.best_loss))\n",
        "print('Training duration of best run: %f s'%(model.best_config_train_time))"
      ]
    },
    {
      "cell_type": "code",
      "execution_count": null,
      "metadata": {
        "id": "JUCtIpdGU_1Y"
      },
      "outputs": [],
      "source": [
        "parameters={'n_estimators': 12, 'num_leaves': 4, 'min_child_samples': 9, 'learning_rate': 0.7260594590615893, 'log_max_bin': 9, 'colsample_bytree': 0.9285002286474459, 'reg_alpha': 0.0036840681931986645, 'reg_lambda': 0.7532480505730402, 'FLAML_sample_size': 10000}"
      ]
    },
    {
      "cell_type": "code",
      "execution_count": null,
      "metadata": {
        "id": "IfK63MBTt5C3",
        "colab": {
          "base_uri": "https://localhost:8080/"
        },
        "outputId": "b7550f8a-8cc4-4903-d79f-6e7682250a53"
      },
      "outputs": [
        {
          "output_type": "execute_result",
          "data": {
            "text/plain": [
              "LGBMClassifier(colsample_bytree=0.928, learning_rate=0.72, max_bin=9,\n",
              "               min_child_samples=9, n_estimators=12, num_leaves=4,\n",
              "               reg_alpha=0.0036840681931986645, reg_lambda=0.7532480505730402)"
            ]
          },
          "metadata": {},
          "execution_count": 28
        }
      ],
      "source": [
        "import lightgbm as lgb\n",
        "model_lgbm= lgb.LGBMClassifier(n_estimators=12, num_leaves=4, min_child_samples=9, learning_rate=0.72, max_bin=9, colsample_bytree=0.928, reg_alpha=0.0036840681931986645, reg_lambda=0.7532480505730402)\n",
        "model_lgbm.fit(X_train, y_train)\n"
      ]
    },
    {
      "cell_type": "code",
      "execution_count": null,
      "metadata": {
        "id": "BcAwhSyMuYrg"
      },
      "outputs": [],
      "source": [
        "from sklearn import preprocessing\n",
        "# predict the results\n",
        "y_pred_1=model_lgbm.predict(X_test)"
      ]
    },
    {
      "cell_type": "code",
      "execution_count": null,
      "metadata": {
        "id": "l1GNvs5qgBjc",
        "colab": {
          "base_uri": "https://localhost:8080/"
        },
        "outputId": "6042ec83-5e08-4edc-e087-360731380c4e"
      },
      "outputs": [
        {
          "output_type": "stream",
          "name": "stdout",
          "text": [
            "99.53380557393076\n"
          ]
        }
      ],
      "source": [
        "# view accuracy\n",
        "from sklearn.metrics import r2_score\n",
        "print(r2_score(y_test,y_pred_1)*100)"
      ]
    },
    {
      "cell_type": "code",
      "execution_count": null,
      "metadata": {
        "id": "lpsxwu4pvE3C",
        "colab": {
          "base_uri": "https://localhost:8080/"
        },
        "outputId": "6518d5d7-3cb9-46d6-e04d-a59f50ee473a"
      },
      "outputs": [
        {
          "output_type": "stream",
          "name": "stdout",
          "text": [
            "Training set score: 0.9988\n",
            "Test set score: 0.9985\n"
          ]
        }
      ],
      "source": [
        "#Checking for overfitting\n",
        "# print the scores on training and test set\n",
        "\n",
        "print('Training set score: {:.4f}'.format(model_lgbm.score(X_train, y_train)))\n",
        "\n",
        "print('Test set score: {:.4f}'.format(model_lgbm.score(X_test, y_test)))\n"
      ]
    },
    {
      "cell_type": "code",
      "execution_count": null,
      "metadata": {
        "id": "33dMg7pmvWEJ",
        "colab": {
          "base_uri": "https://localhost:8080/"
        },
        "outputId": "f7f06bf3-7f97-4de6-8249-dedade52d247"
      },
      "outputs": [
        {
          "output_type": "stream",
          "name": "stdout",
          "text": [
            "              precision    recall  f1-score   support\n",
            "\n",
            "           0       0.20      0.20      0.20      3768\n",
            "           1       0.19      0.20      0.20      3706\n",
            "           2       0.20      0.19      0.19      3815\n",
            "           3       0.20      0.20      0.20      3692\n",
            "           4       0.20      0.20      0.20      3767\n",
            "\n",
            "    accuracy                           0.20     18748\n",
            "   macro avg       0.20      0.20      0.20     18748\n",
            "weighted avg       0.20      0.20      0.20     18748\n",
            "\n"
          ]
        }
      ],
      "source": [
        "from sklearn.metrics import classification_report\n",
        "print(classification_report(y_test, y_pred))"
      ]
    },
    {
      "cell_type": "code",
      "source": [
        "#-----------------K-means-----------------------------------#"
      ],
      "metadata": {
        "id": "D_9VpvA9PzPP"
      },
      "execution_count": null,
      "outputs": []
    },
    {
      "cell_type": "code",
      "execution_count": null,
      "metadata": {
        "id": "u3qWbIY-QZ1P"
      },
      "outputs": [],
      "source": [
        "import numpy as np\n",
        "X = (df2.iloc[:, 0:106])\n",
        "y =(df2.iloc[:, -1]).astype('int64')"
      ]
    },
    {
      "cell_type": "code",
      "source": [
        "import matplotlib.pyplot as plt\n",
        "import pandas as pd\n",
        "plt.scatter(X.iloc[:,0],X.iloc[:,2])"
      ],
      "metadata": {
        "colab": {
          "base_uri": "https://localhost:8080/",
          "height": 282
        },
        "id": "UubdpflFP9Ya",
        "outputId": "6d005fe4-b297-4126-e739-6164bc7802bd"
      },
      "execution_count": null,
      "outputs": [
        {
          "output_type": "execute_result",
          "data": {
            "text/plain": [
              "<matplotlib.collections.PathCollection at 0x7f5dbff8b950>"
            ]
          },
          "metadata": {},
          "execution_count": 35
        },
        {
          "output_type": "display_data",
          "data": {
            "text/plain": [
              "<Figure size 432x288 with 1 Axes>"
            ],
            "image/png": "[encoded data removed]"
          },
          "metadata": {
            "needs_background": "light"
          }
        }
      ]
    },
    {
      "cell_type": "code",
      "source": [
        "from sklearn.cluster import KMeans\n",
        "k = KMeans(n_clusters = 5)\n",
        "\n",
        "k.fit(X.iloc[:,[0,2]])"
      ],
      "metadata": {
        "colab": {
          "base_uri": "https://localhost:8080/"
        },
        "id": "6g53DgWsZ2zL",
        "outputId": "3eb83af8-1723-41f9-c8c1-89bef45fbdb8"
      },
      "execution_count": null,
      "outputs": [
        {
          "output_type": "execute_result",
          "data": {
            "text/plain": [
              "KMeans(n_clusters=5)"
            ]
          },
          "metadata": {},
          "execution_count": 36
        }
      ]
    },
    {
      "cell_type": "code",
      "source": [
        "k.labels_"
      ],
      "metadata": {
        "colab": {
          "base_uri": "https://localhost:8080/"
        },
        "id": "em0e4tETaWRG",
        "outputId": "b4d5e20d-28f5-4566-c7c6-77562c87db83"
      },
      "execution_count": null,
      "outputs": [
        {
          "output_type": "execute_result",
          "data": {
            "text/plain": [
              "array([2, 2, 3, ..., 2, 1, 4], dtype=int32)"
            ]
          },
          "metadata": {},
          "execution_count": 37
        }
      ]
    },
    {
      "cell_type": "code",
      "source": [
        "plt.scatter(X.iloc[:,0],X.iloc[:,2],c=k.labels_)"
      ],
      "metadata": {
        "colab": {
          "base_uri": "https://localhost:8080/",
          "height": 282
        },
        "id": "auvPf33eaeHX",
        "outputId": "57bc5a29-1087-42e2-ad86-5151c2c666be"
      },
      "execution_count": null,
      "outputs": [
        {
          "output_type": "execute_result",
          "data": {
            "text/plain": [
              "<matplotlib.collections.PathCollection at 0x7f5dbff8b6d0>"
            ]
          },
          "metadata": {},
          "execution_count": 38
        },
        {
          "output_type": "display_data",
          "data": {
            "text/plain": [
              "<Figure size 432x288 with 1 Axes>"
            ],
            "image/png": "[encoded data removed]"
          },
          "metadata": {
            "needs_background": "light"
          }
        }
      ]
    },
    {
      "cell_type": "code",
      "source": [
        "from sklearn.metrics import silhouette_score\n",
        "\n",
        "silhouette_score(X,k.labels_)"
      ],
      "metadata": {
        "colab": {
          "base_uri": "https://localhost:8080/"
        },
        "id": "3RQ7yzLgbLa5",
        "outputId": "7488ba04-c295-457d-b875-e7f39df04ae5"
      },
      "execution_count": null,
      "outputs": [
        {
          "output_type": "execute_result",
          "data": {
            "text/plain": [
              "0.32576886652345827"
            ]
          },
          "metadata": {},
          "execution_count": 39
        }
      ]
    }
  ],
  "metadata": {
    "colab": {
      "collapsed_sections": [],
      "provenance": [],
      "authorship_tag": "ABX9TyP5+Kei1UqNOGsjYNBogfzl",
      "include_colab_link": true
    },
    "kernelspec": {
      "display_name": "Python 3",
      "name": "python3"
    },
    "language_info": {
      "name": "python"
    }
  },
  "nbformat": 4,
  "nbformat_minor": 0
}